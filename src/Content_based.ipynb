{
 "cells": [
  {
   "cell_type": "code",
   "execution_count": null,
   "id": "af546586",
   "metadata": {},
   "outputs": [],
   "source": [
    "import pandas as pd\n",
    "from sklearn.feature_extraction.text import TfidfVectorizer\n",
    "from sklearn.metrics.pairwise import linear_kernel\n",
    "import difflib\n",
    "path = r'data\\netflix_titles.csv'\n",
    "df = pd.read_csv(path,encoding='latin-1')"
   ]
  },
  {
   "cell_type": "code",
   "execution_count": 15,
   "id": "be41ae47",
   "metadata": {},
   "outputs": [
    {
     "data": {
      "text/html": [
       "<div>\n",
       "<style scoped>\n",
       "    .dataframe tbody tr th:only-of-type {\n",
       "        vertical-align: middle;\n",
       "    }\n",
       "\n",
       "    .dataframe tbody tr th {\n",
       "        vertical-align: top;\n",
       "    }\n",
       "\n",
       "    .dataframe thead th {\n",
       "        text-align: right;\n",
       "    }\n",
       "</style>\n",
       "<table border=\"1\" class=\"dataframe\">\n",
       "  <thead>\n",
       "    <tr style=\"text-align: right;\">\n",
       "      <th></th>\n",
       "      <th>show_id</th>\n",
       "      <th>type</th>\n",
       "      <th>title</th>\n",
       "      <th>director</th>\n",
       "      <th>cast</th>\n",
       "      <th>country</th>\n",
       "      <th>date_added</th>\n",
       "      <th>release_year</th>\n",
       "      <th>rating</th>\n",
       "      <th>duration</th>\n",
       "      <th>listed_in</th>\n",
       "      <th>description</th>\n",
       "    </tr>\n",
       "  </thead>\n",
       "  <tbody>\n",
       "    <tr>\n",
       "      <th>0</th>\n",
       "      <td>s1</td>\n",
       "      <td>Movie</td>\n",
       "      <td>Dick Johnson Is Dead</td>\n",
       "      <td>Kirsten Johnson</td>\n",
       "      <td>NaN</td>\n",
       "      <td>United States</td>\n",
       "      <td>September 25, 2021</td>\n",
       "      <td>2020</td>\n",
       "      <td>PG-13</td>\n",
       "      <td>90 min</td>\n",
       "      <td>Documentaries</td>\n",
       "      <td>As her father nears the end of his life, filmm...</td>\n",
       "    </tr>\n",
       "    <tr>\n",
       "      <th>1</th>\n",
       "      <td>s2</td>\n",
       "      <td>TV Show</td>\n",
       "      <td>Blood &amp; Water</td>\n",
       "      <td>NaN</td>\n",
       "      <td>Ama Qamata, Khosi Ngema, Gail Mabalane, Thaban...</td>\n",
       "      <td>South Africa</td>\n",
       "      <td>September 24, 2021</td>\n",
       "      <td>2021</td>\n",
       "      <td>TV-MA</td>\n",
       "      <td>2 Seasons</td>\n",
       "      <td>International TV Shows, TV Dramas, TV Mysteries</td>\n",
       "      <td>After crossing paths at a party, a Cape Town t...</td>\n",
       "    </tr>\n",
       "    <tr>\n",
       "      <th>2</th>\n",
       "      <td>s3</td>\n",
       "      <td>TV Show</td>\n",
       "      <td>Ganglands</td>\n",
       "      <td>Julien Leclercq</td>\n",
       "      <td>Sami Bouajila, Tracy Gotoas, Samuel Jouy, Nabi...</td>\n",
       "      <td>NaN</td>\n",
       "      <td>September 24, 2021</td>\n",
       "      <td>2021</td>\n",
       "      <td>TV-MA</td>\n",
       "      <td>1 Season</td>\n",
       "      <td>Crime TV Shows, International TV Shows, TV Act...</td>\n",
       "      <td>To protect his family from a powerful drug lor...</td>\n",
       "    </tr>\n",
       "  </tbody>\n",
       "</table>\n",
       "</div>"
      ],
      "text/plain": [
       "  show_id     type                 title         director  \\\n",
       "0      s1    Movie  Dick Johnson Is Dead  Kirsten Johnson   \n",
       "1      s2  TV Show         Blood & Water              NaN   \n",
       "2      s3  TV Show             Ganglands  Julien Leclercq   \n",
       "\n",
       "                                                cast        country  \\\n",
       "0                                                NaN  United States   \n",
       "1  Ama Qamata, Khosi Ngema, Gail Mabalane, Thaban...   South Africa   \n",
       "2  Sami Bouajila, Tracy Gotoas, Samuel Jouy, Nabi...            NaN   \n",
       "\n",
       "           date_added  release_year rating   duration  \\\n",
       "0  September 25, 2021          2020  PG-13     90 min   \n",
       "1  September 24, 2021          2021  TV-MA  2 Seasons   \n",
       "2  September 24, 2021          2021  TV-MA   1 Season   \n",
       "\n",
       "                                           listed_in  \\\n",
       "0                                      Documentaries   \n",
       "1    International TV Shows, TV Dramas, TV Mysteries   \n",
       "2  Crime TV Shows, International TV Shows, TV Act...   \n",
       "\n",
       "                                         description  \n",
       "0  As her father nears the end of his life, filmm...  \n",
       "1  After crossing paths at a party, a Cape Town t...  \n",
       "2  To protect his family from a powerful drug lor...  "
      ]
     },
     "execution_count": 15,
     "metadata": {},
     "output_type": "execute_result"
    }
   ],
   "source": [
    "# \n",
    "col = ['show_id', 'type', 'title', 'director', 'cast', 'country', 'date_added',\n",
    "       'release_year', 'rating', 'duration', 'listed_in', 'description']\n",
    "df = df[col]\n",
    "df.head(3)"
   ]
  },
  {
   "cell_type": "code",
   "execution_count": 16,
   "id": "1eb0a572",
   "metadata": {},
   "outputs": [
    {
     "name": "stdout",
     "output_type": "stream",
     "text": [
      "Total null value: \n",
      "show_id            0\n",
      "type               0\n",
      "title              0\n",
      "director        2634\n",
      "cast             825\n",
      "country          831\n",
      "date_added        10\n",
      "release_year       0\n",
      "rating             4\n",
      "duration           3\n",
      "listed_in          0\n",
      "description        0\n",
      "dtype: int64\n"
     ]
    }
   ],
   "source": [
    "print(f'Total null value: \\n{df.isnull().sum()}')\n",
    "df = df.dropna()\n"
   ]
  },
  {
   "cell_type": "code",
   "execution_count": 17,
   "id": "1e9dec48",
   "metadata": {},
   "outputs": [],
   "source": [
    "# make combine feature to extract to vector \n",
    "content_feature = ['type','director','description','cast']\n",
    "df['combined_feature'] = df['type'] + ' ' + \\\n",
    "                         df['director'] + ' ' + \\\n",
    "                         df['description'] + ' ' + \\\n",
    "                         df['cast']\n",
    "df = df.reset_index(drop=True)"
   ]
  },
  {
   "cell_type": "code",
   "execution_count": null,
   "id": "5eba7b22",
   "metadata": {},
   "outputs": [],
   "source": [
    "# transfer features to vector \n",
    "vectorize = TfidfVectorizer(stop_words='english',max_features=10000)\n",
    "vector_matrix = vectorize.fit_transform(df['combined_feature'])"
   ]
  },
  {
   "cell_type": "code",
   "execution_count": null,
   "id": "a18d19ad",
   "metadata": {},
   "outputs": [],
   "source": [
    "# save movie index to indices\n",
    "df['title_lower'] = df['title'].str.lower().str.strip()\n",
    "indices = pd.Series(df.index, index=df['title_lower']).drop_duplicates()"
   ]
  },
  {
   "cell_type": "code",
   "execution_count": 20,
   "id": "fc31d195",
   "metadata": {},
   "outputs": [],
   "source": [
    "def content_based_filter(title,top=5):\n",
    "    idx = indices[title]\n",
    "\n",
    "    # calculate cosine similarity\n",
    "    cosine_sim = linear_kernel(vector_matrix[idx], vector_matrix).flatten()\n",
    "    sim_score = list(enumerate(cosine_sim))\n",
    "\n",
    "    #sort similarity\n",
    "    sim_score_sorted = sorted(sim_score, key=lambda x: x[1], reverse=True)\n",
    "    sim_score_sorted = sim_score_sorted[1:top+1]\n",
    "    # get top n movie recommend\n",
    "    movie_index = [i[0] for i in sim_score_sorted]\n",
    "\n",
    "    return df.iloc[movie_index][['title','description','director','cast','duration']]"
   ]
  },
  {
   "cell_type": "code",
   "execution_count": null,
   "id": "7eef643d",
   "metadata": {},
   "outputs": [
    {
     "name": "stdout",
     "output_type": "stream",
     "text": [
      "['strange voices']\n",
      "                                      title  \\\n",
      "1666  Betty White: First Lady of Television   \n",
      "433                     The Yeti Adventures   \n",
      "3304                   The Ryan White Story   \n",
      "3224         Interview with a Serial Killer   \n",
      "555             Secret Magic Control Agency   \n",
      "\n",
      "                                            description  \\\n",
      "1666  This documentary on actress and television pro...   \n",
      "433   An explorer and a detective set off for the sn...   \n",
      "3304  After contracting HIV from a tainted blood tre...   \n",
      "3224  In this jailhouse interview, Arthur Shawcross,...   \n",
      "555   Hansel and Gretel of fairy tale fame â now a...   \n",
      "\n",
      "                                 director  \\\n",
      "1666                      Steve Boettcher   \n",
      "433   Pierre Greco, Nancy Florence Savard   \n",
      "3304                        John Herzfeld   \n",
      "3224                   Christopher Martin   \n",
      "555                     Aleksey Tsitsilin   \n",
      "\n",
      "                                                   cast duration  \n",
      "1666  Betty White, Valerie Bertinelli, Georgia Engel...   56 min  \n",
      "433   Rachelle Lefevre, Noel Fisher, Colm Feore, Jul...   85 min  \n",
      "3304  Judith Light, Lukas Haas, Michael Bowen, Nikki...   94 min  \n",
      "3224                                   Arthur Shawcross   45 min  \n",
      "555   Nicholas Corda, Sylvana Joyce, Alyson Leigh Ro...  105 min  \n"
     ]
    }
   ],
   "source": [
    "\n",
    "name = input('enter name: ').lower().strip()\n",
    "\n",
    "# find closest movie name from data that match input\n",
    "all_titles = df['title_lower'].tolist()\n",
    "closest_match = difflib.get_close_matches(name,all_titles,n=1,cutoff=0.8)\n",
    "print(closest_match)\n",
    "\n",
    "if closest_match:\n",
    "    print(content_based_filter(closest_match))\n",
    "else:\n",
    "    print('cant find movie name')\n"
   ]
  }
 ],
 "metadata": {
  "kernelspec": {
   "display_name": "Python 3",
   "language": "python",
   "name": "python3"
  },
  "language_info": {
   "codemirror_mode": {
    "name": "ipython",
    "version": 3
   },
   "file_extension": ".py",
   "mimetype": "text/x-python",
   "name": "python",
   "nbconvert_exporter": "python",
   "pygments_lexer": "ipython3",
   "version": "3.13.7"
  }
 },
 "nbformat": 4,
 "nbformat_minor": 5
}
